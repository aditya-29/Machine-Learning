{
 "cells": [
  {
   "cell_type": "code",
   "execution_count": 11,
   "metadata": {},
   "outputs": [
    {
     "data": {
      "text/plain": [
       "12.0"
      ]
     },
     "execution_count": 11,
     "metadata": {},
     "output_type": "execute_result"
    }
   ],
   "source": [
    "'''\n",
    "    File containing utils functions\n",
    "'''\n",
    "\n",
    "import numpy as np\n",
    "\n",
    "def euclidian_distance(p1, p2):\n",
    "    '''\n",
    "        Method to calculate the euclidian distance between two points\n",
    "\n",
    "        PARAMS:\n",
    "            p1  - point 1 (can be of n dimentions)\n",
    "            p2  - point 2 (can be of n dimentions)\n",
    "    '''\n",
    "    p1 = np.array(p1)\n",
    "    p2 = np.array(p2)\n",
    "\n",
    "    return np.sum(np.sqrt((p1 - p2) ** 2))\n",
    "\n",
    "\n",
    "p1 = [1,2,3]\n",
    "p2 = [3,6,9]\n",
    "\n",
    "euclidian_distance(p1, p2)\n"
   ]
  },
  {
   "cell_type": "code",
   "execution_count": null,
   "metadata": {},
   "outputs": [],
   "source": []
  }
 ],
 "metadata": {
  "kernelspec": {
   "display_name": "Python 3",
   "language": "python",
   "name": "python3"
  },
  "language_info": {
   "codemirror_mode": {
    "name": "ipython",
    "version": 3
   },
   "file_extension": ".py",
   "mimetype": "text/x-python",
   "name": "python",
   "nbconvert_exporter": "python",
   "pygments_lexer": "ipython3",
   "version": "3.10.6"
  }
 },
 "nbformat": 4,
 "nbformat_minor": 2
}
